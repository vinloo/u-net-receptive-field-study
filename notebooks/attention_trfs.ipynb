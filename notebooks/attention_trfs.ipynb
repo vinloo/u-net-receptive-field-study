{
 "cells": [
  {
   "cell_type": "code",
   "execution_count": 1,
   "metadata": {},
   "outputs": [],
   "source": [
    "from unet import UNet\n",
    "from utils.config import load_config, ALL_CONFIGS\n",
    "from utils.metrics import dice_score\n",
    "from trf import compute_trf\n",
    "from matplotlib import pyplot as plt\n",
    "from IPython.display import Image, display\n",
    "from torch.utils.data import DataLoader\n",
    "from utils.data import SegmentationDataset\n",
    "import matplotlib.patches as patches\n",
    "import numpy as np\n",
    "import torch\n",
    "import glob\n",
    "import os\n",
    "\n",
    "device = torch.device(\"cuda\" if torch.cuda.is_available() else \"cpu\")"
   ]
  },
  {
   "cell_type": "code",
   "execution_count": 2,
   "metadata": {},
   "outputs": [
    {
     "name": "stdout",
     "output_type": "stream",
     "text": [
      "trf54: 31861232\n",
      "trf100: 31361886\n",
      "trf146: 31236942\n",
      "trf204: 31391489\n",
      "trf230: 31130239\n",
      "trf298: 31262508\n",
      "trf360: 31104290\n",
      "trf412: 31393413\n",
      "trf486: 31125985\n",
      "trf570: 31105058\n"
     ]
    }
   ],
   "source": [
    "for config_name in ALL_CONFIGS:\n",
    "    config = load_config(config_name)\n",
    "    model = UNet(config, attention=True).to(device)\n",
    "    print(f\"{config_name}:\", model.total_parameters())\n",
    "\n"
   ]
  }
 ],
 "metadata": {
  "kernelspec": {
   "display_name": "thesis",
   "language": "python",
   "name": "python3"
  },
  "language_info": {
   "codemirror_mode": {
    "name": "ipython",
    "version": 3
   },
   "file_extension": ".py",
   "mimetype": "text/x-python",
   "name": "python",
   "nbconvert_exporter": "python",
   "pygments_lexer": "ipython3",
   "version": "3.10.10"
  },
  "orig_nbformat": 4
 },
 "nbformat": 4,
 "nbformat_minor": 2
}
