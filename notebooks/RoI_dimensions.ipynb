{
 "cells": [
  {
   "cell_type": "code",
   "execution_count": 3,
   "metadata": {},
   "outputs": [],
   "source": [
    "import glob\n",
    "import cv2\n",
    "import numpy as np\n",
    "\n",
    "def mean_RoI_size(mask_files) -> int:\n",
    "    dimensions = []\n",
    "\n",
    "    for mask_file in mask_files:\n",
    "        mask = cv2.imread(mask_file, 0)\n",
    "        mask = mask / 255\n",
    "        mask = mask.astype(np.uint8)\n",
    "\n",
    "        # Find the contours in the mask\n",
    "        contours, _ = cv2.findContours(mask, cv2.RETR_TREE, cv2.CHAIN_APPROX_SIMPLE)\n",
    "\n",
    "        for contour in contours:\n",
    "            # Get the bounding rectangle of the contour and append the maximum dimension to the list\n",
    "            rect = cv2.boundingRect(contour)\n",
    "            height = rect[3]\n",
    "            width = rect[2]\n",
    "            dimensions.append(max(height, width))\n",
    "\n",
    "    return int(np.mean(dimensions))"
   ]
  },
  {
   "cell_type": "code",
   "execution_count": 9,
   "metadata": {},
   "outputs": [
    {
     "name": "stdout",
     "output_type": "stream",
     "text": [
      "fetal_head: 260\n",
      "fetal_head_2: 255\n",
      "kidney: 101\n",
      "lungs: 329\n",
      "thyroid: 187\n",
      "nerve: 159\n",
      "shapes_a: 168\n",
      "shapes_b: 168\n",
      "shapes_a_large: 244\n",
      "shapes_b_large: 238\n",
      "shapes_a_contour: 169\n",
      "shapes_b_contour: 168\n",
      "shapes_a_large_contour: 243\n",
      "shapes_b_large_contour: 237\n"
     ]
    }
   ],
   "source": [
    "from utils.data import ALL_DATASETS\n",
    "\n",
    "datasets = list(ALL_DATASETS.keys())\n",
    "datasets.remove(\"dummy\")\n",
    "\n",
    "for dataset in datasets:\n",
    "    mask_files = glob.glob(f\"data/preprocessed/{dataset}/train/masks/*.png\")\n",
    "    mask_files += glob.glob(f\"data/preprocessed/{dataset}/val/masks/*.png\")\n",
    "    mask_files += glob.glob(f\"data/preprocessed/{dataset}/test/masks/*.png\")\n",
    "\n",
    "    print(f\"{dataset}: {mean_RoI_size(mask_files)}\")"
   ]
  }
 ],
 "metadata": {
  "kernelspec": {
   "display_name": "thesis",
   "language": "python",
   "name": "python3"
  },
  "language_info": {
   "codemirror_mode": {
    "name": "ipython",
    "version": 3
   },
   "file_extension": ".py",
   "mimetype": "text/x-python",
   "name": "python",
   "nbconvert_exporter": "python",
   "pygments_lexer": "ipython3",
   "version": "3.10.10"
  },
  "orig_nbformat": 4
 },
 "nbformat": 4,
 "nbformat_minor": 2
}
