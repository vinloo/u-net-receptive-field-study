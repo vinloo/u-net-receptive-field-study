{
 "cells": [
  {
   "cell_type": "code",
   "execution_count": 1,
   "metadata": {},
   "outputs": [],
   "source": [
    "import glob\n",
    "import cv2\n",
    "import numpy as np\n",
    "\n",
    "def mean_RoI_size(mask_files) -> int:\n",
    "    dimensions = []\n",
    "\n",
    "    for mask_file in mask_files:\n",
    "        mask = cv2.imread(mask_file, 0)\n",
    "        mask = mask / 255\n",
    "        mask = mask.astype(np.uint8)\n",
    "\n",
    "        # Find the contours in the mask\n",
    "        contours, _ = cv2.findContours(mask, cv2.RETR_TREE, cv2.CHAIN_APPROX_SIMPLE)\n",
    "\n",
    "        for contour in contours:\n",
    "            # Get the bounding rectangle of the contour and append the maximum dimension to the list\n",
    "            rect = cv2.boundingRect(contour)\n",
    "            height = rect[3]\n",
    "            width = rect[2]\n",
    "            dimensions.append(max(height, width))\n",
    "\n",
    "    return int(np.mean(dimensions))"
   ]
  },
  {
   "cell_type": "code",
   "execution_count": 2,
   "metadata": {},
   "outputs": [],
   "source": [
    "def image_contrast_level(img: np.ndarray, mask: np.ndarray) -> float:\n",
    "    RoI = img[mask == 1].flatten()\n",
    "    not_RoI = img[mask == 0].flatten()\n",
    "\n",
    "    if len(RoI) == 0 or len(not_RoI) == 0:\n",
    "        return None\n",
    "\n",
    "    RoI_hist_norm = np.histogram(RoI, bins=10, range=(0, 256))[\n",
    "        0] / len(RoI)\n",
    "    not_RoI_hist_norm = np.histogram(not_RoI, bins=10, range=(0, 256))[\n",
    "        0] / len(not_RoI)\n",
    "    contrast = np.mean(np.abs(RoI_hist_norm - not_RoI_hist_norm))\n",
    "    return contrast"
   ]
  },
  {
   "cell_type": "code",
   "execution_count": 18,
   "metadata": {},
   "outputs": [],
   "source": [
    "def mean_contrast_level(imgs_dir: str, masks_dir: str, file_type: str = 'png') -> float:\n",
    "    img_files = imgs_dir\n",
    "    img_files.sort()\n",
    "    mask_files = masks_dir\n",
    "    mask_files.sort()\n",
    "    files = list(zip(img_files, mask_files))\n",
    "\n",
    "    contrasts = []\n",
    "\n",
    "    for img_file, mask_file in files:\n",
    "        img = cv2.imread(img_file, 0)\n",
    "        mask = cv2.imread(mask_file, 0)\n",
    "        mask = mask / 255\n",
    "        mask = mask.astype(np.uint8)\n",
    "\n",
    "        contrast = image_contrast_level(img, mask)\n",
    "\n",
    "        if contrast is not None:\n",
    "            contrasts.append(contrast)\n",
    "\n",
    "    return np.mean(contrasts)"
   ]
  },
  {
   "cell_type": "code",
   "execution_count": 19,
   "metadata": {},
   "outputs": [
    {
     "name": "stdout",
     "output_type": "stream",
     "text": [
      "fetal_head: 260\n",
      "fetal_head_2: 255\n",
      "kidney: 101\n",
      "lungs: 329\n",
      "thyroid: 187\n",
      "nerve: 159\n",
      "shapes_a: 168\n",
      "shapes_b: 168\n",
      "shapes_a_large: 244\n",
      "shapes_b_large: 238\n",
      "shapes_a_contour: 169\n",
      "shapes_b_contour: 168\n",
      "shapes_a_large_contour: 243\n",
      "shapes_b_large_contour: 237\n"
     ]
    }
   ],
   "source": [
    "from utils.data import ALL_DATASETS\n",
    "\n",
    "datasets = list(ALL_DATASETS.keys())\n",
    "datasets.remove(\"dummy\")\n",
    "\n",
    "for dataset in datasets:\n",
    "    mask_files = glob.glob(f\"data/preprocessed/{dataset}/train/masks/*.png\")\n",
    "    mask_files += glob.glob(f\"data/preprocessed/{dataset}/val/masks/*.png\")\n",
    "    mask_files += glob.glob(f\"data/preprocessed/{dataset}/test/masks/*.png\")\n",
    "\n",
    "    print(f\"{dataset}: {mean_RoI_size(mask_files)}\")"
   ]
  },
  {
   "cell_type": "code",
   "execution_count": 20,
   "metadata": {},
   "outputs": [
    {
     "name": "stdout",
     "output_type": "stream",
     "text": [
      "fetal_head: 0.059890137215260965\n",
      "fetal_head_2: 0.06653948649256097\n",
      "kidney: 0.16664373959384315\n",
      "lungs: 0.13100204956874126\n",
      "thyroid: 0.14964160960773834\n",
      "nerve: 0.048517518210639855\n",
      "shapes_a: 0.19969839424562874\n",
      "shapes_b: 0.19195257843231986\n",
      "shapes_a_large: 0.19934751974983594\n",
      "shapes_b_large: 0.1800119698366292\n",
      "shapes_a_contour: 0.014571840703483541\n",
      "shapes_b_contour: 0.013416561243448751\n",
      "shapes_a_large_contour: 0.005176048223929\n",
      "shapes_b_large_contour: 0.005445086126375616\n"
     ]
    }
   ],
   "source": [
    "from utils.data import ALL_DATASETS\n",
    "\n",
    "datasets = list(ALL_DATASETS.keys())\n",
    "datasets.remove(\"dummy\")\n",
    "\n",
    "for dataset in datasets:\n",
    "    image_files = glob.glob(f\"data/preprocessed/{dataset}/train/*.png\")\n",
    "    image_files += glob.glob(f\"data/preprocessed/{dataset}/val/*.png\")\n",
    "    image_files += glob.glob(f\"data/preprocessed/{dataset}/test/*.png\")\n",
    "    mask_files = glob.glob(f\"data/preprocessed/{dataset}/train/masks/*.png\")\n",
    "    mask_files += glob.glob(f\"data/preprocessed/{dataset}/val/masks/*.png\")\n",
    "    mask_files += glob.glob(f\"data/preprocessed/{dataset}/test/masks/*.png\")\n",
    "\n",
    "    # print(len(image_files), len(mask_files))\n",
    "\n",
    "    print(f\"{dataset}: {mean_contrast_level(image_files, mask_files)}\")"
   ]
  }
 ],
 "metadata": {
  "kernelspec": {
   "display_name": "thesis",
   "language": "python",
   "name": "python3"
  },
  "language_info": {
   "codemirror_mode": {
    "name": "ipython",
    "version": 3
   },
   "file_extension": ".py",
   "mimetype": "text/x-python",
   "name": "python",
   "nbconvert_exporter": "python",
   "pygments_lexer": "ipython3",
   "version": "3.10.10"
  },
  "orig_nbformat": 4
 },
 "nbformat": 4,
 "nbformat_minor": 2
}
