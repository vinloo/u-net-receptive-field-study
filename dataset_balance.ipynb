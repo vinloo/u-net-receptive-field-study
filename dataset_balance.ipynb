{
 "cells": [
  {
   "attachments": {},
   "cell_type": "markdown",
   "metadata": {},
   "source": [
    "# Data balancing\n",
    "After preprocessing, some of the datasets were imbalanced. This notebook checks the balance of all datasets and rebalances when necessary. Only run this one time because else it will mess up the datasets!"
   ]
  },
  {
   "cell_type": "code",
   "execution_count": 34,
   "metadata": {},
   "outputs": [],
   "source": [
    "from utils.data import SegmentationDataset, ALL_DATASETS\n",
    "from torch.utils.data import DataLoader\n",
    "from tqdm import tqdm\n",
    "from torchvision.io import read_image\n",
    "import os\n",
    "import random"
   ]
  },
  {
   "cell_type": "code",
   "execution_count": 22,
   "metadata": {},
   "outputs": [
    {
     "name": "stdout",
     "output_type": "stream",
     "text": [
      "fetal_head:\n"
     ]
    },
    {
     "name": "stderr",
     "output_type": "stream",
     "text": [
      "  train: 100%|██████████| 350/350 [00:01<00:00, 210.76it/s]\n"
     ]
    },
    {
     "name": "stdout",
     "output_type": "stream",
     "text": [
      "    mask:    350 (100.0%)\n",
      "    no mask: 0 (0.0%)\n"
     ]
    },
    {
     "name": "stderr",
     "output_type": "stream",
     "text": [
      "  val: 100%|██████████| 74/74 [00:00<00:00, 207.31it/s]\n"
     ]
    },
    {
     "name": "stdout",
     "output_type": "stream",
     "text": [
      "    mask:    74 (100.0%)\n",
      "    no mask: 0 (0.0%)\n"
     ]
    },
    {
     "name": "stderr",
     "output_type": "stream",
     "text": [
      "  test: 100%|██████████| 76/76 [00:00<00:00, 201.69it/s]\n"
     ]
    },
    {
     "name": "stdout",
     "output_type": "stream",
     "text": [
      "    mask:    76 (100.0%)\n",
      "    no mask: 0 (0.0%)\n",
      "\n",
      "breast_cancer:\n"
     ]
    },
    {
     "name": "stderr",
     "output_type": "stream",
     "text": [
      "  train: 100%|██████████| 259/259 [00:01<00:00, 187.73it/s]\n"
     ]
    },
    {
     "name": "stdout",
     "output_type": "stream",
     "text": [
      "    mask:    259 (100.0%)\n",
      "    no mask: 0 (0.0%)\n"
     ]
    },
    {
     "name": "stderr",
     "output_type": "stream",
     "text": [
      "  val: 100%|██████████| 55/55 [00:00<00:00, 186.25it/s]\n"
     ]
    },
    {
     "name": "stdout",
     "output_type": "stream",
     "text": [
      "    mask:    55 (100.0%)\n",
      "    no mask: 0 (0.0%)\n"
     ]
    },
    {
     "name": "stderr",
     "output_type": "stream",
     "text": [
      "  test: 100%|██████████| 56/56 [00:00<00:00, 185.53it/s]\n"
     ]
    },
    {
     "name": "stdout",
     "output_type": "stream",
     "text": [
      "    mask:    56 (100.0%)\n",
      "    no mask: 0 (0.0%)\n",
      "\n",
      "mouse_embryo:\n"
     ]
    },
    {
     "name": "stderr",
     "output_type": "stream",
     "text": [
      "  train: 100%|██████████| 18885/18885 [02:36<00:00, 120.87it/s]\n"
     ]
    },
    {
     "name": "stdout",
     "output_type": "stream",
     "text": [
      "    no masks:       4465 (23.64%)\n",
      "    only body mask: 7213 (38.19%)\n",
      "    only bv mask:   4 (0.02%)\n",
      "    both masks:     7203 (38.14%)\n"
     ]
    },
    {
     "name": "stderr",
     "output_type": "stream",
     "text": [
      "  val: 100%|██████████| 4503/4503 [00:37<00:00, 121.20it/s]\n"
     ]
    },
    {
     "name": "stdout",
     "output_type": "stream",
     "text": [
      "    no masks:       728 (16.17%)\n",
      "    only body mask: 2105 (46.75%)\n",
      "    only bv mask:   1 (0.02%)\n",
      "    both masks:     1669 (37.06%)\n"
     ]
    },
    {
     "name": "stderr",
     "output_type": "stream",
     "text": [
      "  test: 100%|██████████| 5604/5604 [00:42<00:00, 130.70it/s]\n"
     ]
    },
    {
     "name": "stdout",
     "output_type": "stream",
     "text": [
      "    no masks:       1040 (18.56%)\n",
      "    only body mask: 2835 (50.59%)\n",
      "    only bv mask:   0 (0.0%)\n",
      "    both masks:     1729 (30.85%)\n",
      "\n",
      "covid:\n"
     ]
    },
    {
     "name": "stderr",
     "output_type": "stream",
     "text": [
      "  train: 100%|██████████| 3122/3122 [00:24<00:00, 126.16it/s]\n"
     ]
    },
    {
     "name": "stdout",
     "output_type": "stream",
     "text": [
      "    mask:    1580 (50.61%)\n",
      "    no mask: 1542 (49.39%)\n"
     ]
    },
    {
     "name": "stderr",
     "output_type": "stream",
     "text": [
      "  val: 100%|██████████| 218/218 [00:01<00:00, 121.99it/s]\n"
     ]
    },
    {
     "name": "stdout",
     "output_type": "stream",
     "text": [
      "    mask:    149 (68.35%)\n",
      "    no mask: 69 (31.65%)\n"
     ]
    },
    {
     "name": "stderr",
     "output_type": "stream",
     "text": [
      "  test: 100%|██████████| 180/180 [00:01<00:00, 120.09it/s]\n"
     ]
    },
    {
     "name": "stdout",
     "output_type": "stream",
     "text": [
      "    mask:    115 (63.89%)\n",
      "    no mask: 65 (36.11%)\n",
      "\n",
      "pancreas:\n"
     ]
    },
    {
     "name": "stderr",
     "output_type": "stream",
     "text": [
      "  train: 100%|██████████| 11923/11923 [01:35<00:00, 125.41it/s]\n"
     ]
    },
    {
     "name": "stdout",
     "output_type": "stream",
     "text": [
      "    mask:    4607 (38.64%)\n",
      "    no mask: 7316 (61.36%)\n"
     ]
    },
    {
     "name": "stderr",
     "output_type": "stream",
     "text": [
      "  val: 100%|██████████| 2491/2491 [00:27<00:00, 89.80it/s] \n"
     ]
    },
    {
     "name": "stdout",
     "output_type": "stream",
     "text": [
      "    mask:    989 (39.7%)\n",
      "    no mask: 1502 (60.3%)\n"
     ]
    },
    {
     "name": "stderr",
     "output_type": "stream",
     "text": [
      "  test: 100%|██████████| 2850/2850 [00:23<00:00, 123.25it/s]\n"
     ]
    },
    {
     "name": "stdout",
     "output_type": "stream",
     "text": [
      "    mask:    1109 (38.91%)\n",
      "    no mask: 1741 (61.09%)\n",
      "\n",
      "brain_tumor:\n"
     ]
    },
    {
     "name": "stderr",
     "output_type": "stream",
     "text": [
      "  train: 100%|██████████| 2895/2895 [00:19<00:00, 145.86it/s]\n"
     ]
    },
    {
     "name": "stdout",
     "output_type": "stream",
     "text": [
      "    mask:    1036 (35.79%)\n",
      "    no mask: 1859 (64.21%)\n"
     ]
    },
    {
     "name": "stderr",
     "output_type": "stream",
     "text": [
      "  val: 100%|██████████| 462/462 [00:02<00:00, 159.41it/s]\n"
     ]
    },
    {
     "name": "stdout",
     "output_type": "stream",
     "text": [
      "    mask:    159 (34.42%)\n",
      "    no mask: 303 (65.58%)\n"
     ]
    },
    {
     "name": "stderr",
     "output_type": "stream",
     "text": [
      "  test: 100%|██████████| 572/572 [00:03<00:00, 145.79it/s]\n"
     ]
    },
    {
     "name": "stdout",
     "output_type": "stream",
     "text": [
      "    mask:    178 (31.12%)\n",
      "    no mask: 394 (68.88%)\n",
      "\n",
      "prostate:\n"
     ]
    },
    {
     "name": "stderr",
     "output_type": "stream",
     "text": [
      "  train: 100%|██████████| 2687/2687 [00:19<00:00, 135.97it/s]\n"
     ]
    },
    {
     "name": "stdout",
     "output_type": "stream",
     "text": [
      "    mask:    1317 (49.01%)\n",
      "    no mask: 1370 (50.99%)\n"
     ]
    },
    {
     "name": "stderr",
     "output_type": "stream",
     "text": [
      "  val: 100%|██████████| 585/585 [00:03<00:00, 147.73it/s]\n"
     ]
    },
    {
     "name": "stdout",
     "output_type": "stream",
     "text": [
      "    mask:    271 (46.32%)\n",
      "    no mask: 314 (53.68%)\n"
     ]
    },
    {
     "name": "stderr",
     "output_type": "stream",
     "text": [
      "  test: 100%|██████████| 615/615 [00:04<00:00, 134.87it/s]"
     ]
    },
    {
     "name": "stdout",
     "output_type": "stream",
     "text": [
      "    mask:    279 (45.37%)\n",
      "    no mask: 336 (54.63%)\n",
      "\n"
     ]
    },
    {
     "name": "stderr",
     "output_type": "stream",
     "text": [
      "\n"
     ]
    }
   ],
   "source": [
    "def get_dataset_stats(dataset_name, subset, labels, n_labels):\n",
    "    dataset = SegmentationDataset(dataset_name, subset)\n",
    "    dataloader = DataLoader(dataset)\n",
    "\n",
    "    if n_labels == 1:\n",
    "        mask = 0\n",
    "        no_mask = 0\n",
    "        for _, (_, y) in tqdm(enumerate(dataloader), desc=\"  \" + subset, total=len(dataloader)):\n",
    "            y = y.numpy()\n",
    "            if y.sum() == 0:\n",
    "                no_mask += 1\n",
    "            else:\n",
    "                mask += 1\n",
    "\n",
    "        return len(dataloader), mask, no_mask\n",
    "    \n",
    "    elif n_labels == 2:\n",
    "        only_mask1 = 0\n",
    "        only_mask2 = 0\n",
    "        both_masks = 0\n",
    "        no_masks = 0\n",
    "\n",
    "        for _, (_, y) in tqdm(enumerate(dataloader), desc=\"  \" + subset, total=len(dataloader)):\n",
    "            y = y.numpy()\n",
    "            if y[:, 0, :, :].sum() > 0 and y[:, 1, :, :].sum() == 0:\n",
    "                only_mask1 += 1\n",
    "            elif y[:, 0, :, :].sum() == 0 and y[:, 1, :, :].sum() > 0:\n",
    "                only_mask2 += 1\n",
    "            elif y.sum() == 0:\n",
    "                no_masks += 1\n",
    "            else:\n",
    "                both_masks += 1\n",
    "\n",
    "        return len(dataloader), only_mask1, only_mask2, both_masks, no_masks\n",
    "    else:\n",
    "        raise ValueError(\"Currently only supports 1 or 2 labels\")\n",
    "    \n",
    "\n",
    "for dataset_name in ALL_DATASETS.keys():\n",
    "    n_labels = ALL_DATASETS[dataset_name][\"n_labels\"]\n",
    "    labels = ALL_DATASETS[dataset_name][\"labels\"]\n",
    "\n",
    "    print(f\"{dataset_name}:\")\n",
    "    for subset in [\"train\", \"val\", \"test\"]:\n",
    "        if n_labels == 1:\n",
    "            total, mask, no_mask = get_dataset_stats(dataset_name, subset, labels, n_labels)\n",
    "            print(f\"    mask:    {mask} ({round(mask / float(total) * 100, 2)}%)\")\n",
    "            print(f\"    no mask: {no_mask} ({round(no_mask / float(total) * 100, 2)}%)\")\n",
    "        elif n_labels == 2:\n",
    "            total, only_mask1, only_mask2, both_masks, no_masks = get_dataset_stats(dataset_name, subset, labels, n_labels)\n",
    "            print(f\"    no masks:       {no_masks} ({round(no_masks / float(total) * 100, 2)}%)\")\n",
    "            print(f\"    only {labels[0]} mask: {only_mask1} ({round(only_mask1 / float(total) * 100, 2)}%)\")\n",
    "            print(f\"    only {labels[1]} mask:   {only_mask2} ({round(only_mask2 / float(total) * 100, 2)}%)\")\n",
    "            print(f\"    both masks:     {both_masks} ({round(both_masks / float(total) * 100, 2)}%)\")\n",
    "        else:\n",
    "            raise ValueError(\"Currently only supports 1 or 2 labels\")\n",
    "    print(\"\")\n",
    "    \n",
    "\n",
    "\n"
   ]
  },
  {
   "attachments": {},
   "cell_type": "markdown",
   "metadata": {},
   "source": [
    "### Balance mouse_embryo\n",
    "From mouse_embryo: remove those without masks or only a brain mask"
   ]
  },
  {
   "cell_type": "code",
   "execution_count": 21,
   "metadata": {},
   "outputs": [
    {
     "name": "stderr",
     "output_type": "stream",
     "text": [
      "subset: 100%|██████████| 18885/18885 [02:38<00:00, 119.23it/s]\n"
     ]
    },
    {
     "name": "stdout",
     "output_type": "stream",
     "text": [
      "Removed 4469 images from train\n"
     ]
    },
    {
     "name": "stderr",
     "output_type": "stream",
     "text": [
      "subset: 100%|██████████| 4503/4503 [00:35<00:00, 126.84it/s]\n"
     ]
    },
    {
     "name": "stdout",
     "output_type": "stream",
     "text": [
      "Removed 729 images from val\n"
     ]
    },
    {
     "name": "stderr",
     "output_type": "stream",
     "text": [
      "subset: 100%|██████████| 5604/5604 [00:43<00:00, 127.63it/s]"
     ]
    },
    {
     "name": "stdout",
     "output_type": "stream",
     "text": [
      "Removed 1040 images from test\n"
     ]
    },
    {
     "name": "stderr",
     "output_type": "stream",
     "text": [
      "\n"
     ]
    }
   ],
   "source": [
    "for subset in [\"train\", \"val\", \"test\"]:\n",
    "    dataset = SegmentationDataset(\"mouse_embryo\", subset)\n",
    "    dataloader = DataLoader(dataset)\n",
    "    to_remove = 0\n",
    "    for path_img, (path_mask_body, path_mask_bv), (img, mask) in tqdm(zip(dataset.inputs, dataset.masks, dataloader), total=len(dataloader), desc=\"subset\"):\n",
    "        mask = mask.numpy()\n",
    "        body_mask = mask[:, 0, :, :]\n",
    "        bv_mask = mask[:, 1, :, :]\n",
    "\n",
    "\n",
    "        if mask.sum() == 0 or (body_mask.sum() == 0 and bv_mask.sum() > 0):\n",
    "            to_remove += 1\n",
    "            os.remove(path_img)\n",
    "            os.remove(path_mask_body)\n",
    "            os.remove(path_mask_bv)\n",
    "    print(f\"Removed {to_remove} images from {subset}\")\n"
   ]
  },
  {
   "attachments": {},
   "cell_type": "markdown",
   "metadata": {},
   "source": [
    "### Balance pancreas\n",
    "From panceas: randomly remove 2709 from train, 513 from val, 632 from test without mask"
   ]
  },
  {
   "cell_type": "code",
   "execution_count": 37,
   "metadata": {},
   "outputs": [
    {
     "name": "stdout",
     "output_type": "stream",
     "text": [
      "Removed 2709 images from train\n",
      "Removed 513 images from val\n",
      "Removed 632 images from test\n"
     ]
    }
   ],
   "source": [
    "for subset, n in [(\"train\", 2709), (\"val\", 513), (\"test\", 632)]:\n",
    "    dataset = SegmentationDataset(\"pancreas\", subset)\n",
    "    ids = list(range(len(dataset)))\n",
    "    random.shuffle(ids)\n",
    "\n",
    "    removed = 0\n",
    "\n",
    "    for i in ids:\n",
    "        path_input = dataset.inputs[i]\n",
    "        path_mask = dataset.masks[i]\n",
    "\n",
    "        mask = read_image(path_mask).numpy()\n",
    "        if mask.sum() == 0:\n",
    "            os.remove(path_input)\n",
    "            os.remove(path_mask)\n",
    "            removed += 1\n",
    "        \n",
    "        if removed == n:\n",
    "            print(f\"Removed {removed} images from {subset}\")\n",
    "            break"
   ]
  },
  {
   "attachments": {},
   "cell_type": "markdown",
   "metadata": {},
   "source": [
    "### Balance brain_tumor\n",
    "From brain_tumor: randomly remove 823 from train, 144 from val, 216 from test without mask"
   ]
  },
  {
   "cell_type": "code",
   "execution_count": 40,
   "metadata": {},
   "outputs": [
    {
     "name": "stdout",
     "output_type": "stream",
     "text": [
      "Removed 823 images from train\n",
      "Removed 144 images from val\n",
      "Removed 216 images from test\n"
     ]
    }
   ],
   "source": [
    "for subset, n in [(\"train\", 823), (\"val\", 144), (\"test\", 216)]:\n",
    "    dataset = SegmentationDataset(\"brain_tumor\", subset)\n",
    "    ids = list(range(len(dataset)))\n",
    "    random.shuffle(ids)\n",
    "\n",
    "    removed = 0\n",
    "\n",
    "    for i in ids:\n",
    "        path_input = dataset.inputs[i]\n",
    "        path_mask = dataset.masks[i]\n",
    "\n",
    "        mask = read_image(path_mask).numpy()\n",
    "        if mask.sum() == 0:\n",
    "            os.remove(path_input)\n",
    "            os.remove(path_mask)\n",
    "            removed += 1\n",
    "        \n",
    "        if removed == n:\n",
    "            print(f\"Removed {removed} images from {subset}\")\n",
    "            break"
   ]
  },
  {
   "attachments": {},
   "cell_type": "markdown",
   "metadata": {},
   "source": [
    "### Balance covid\n",
    "From covid: randomly remove 80 from val and  50 from test **with** mask"
   ]
  },
  {
   "cell_type": "code",
   "execution_count": 45,
   "metadata": {},
   "outputs": [
    {
     "name": "stdout",
     "output_type": "stream",
     "text": [
      "Removed 80 images from val\n",
      "Removed 50 images from test\n"
     ]
    }
   ],
   "source": [
    "for subset, n in [(\"val\", 80), (\"test\", 50)]:\n",
    "    dataset = SegmentationDataset(\"covid\", subset)\n",
    "    ids = list(range(len(dataset)))\n",
    "    random.shuffle(ids)\n",
    "\n",
    "    removed = 0\n",
    "\n",
    "    for i in ids:\n",
    "        path_input = dataset.inputs[i]\n",
    "        path_mask = dataset.masks[i]\n",
    "\n",
    "        mask = read_image(path_mask).numpy()\n",
    "        if mask.sum() > 0:\n",
    "            os.remove(path_input)\n",
    "            os.remove(path_mask)\n",
    "            removed += 1\n",
    "        \n",
    "        if removed == n:\n",
    "            print(f\"Removed {removed} images from {subset}\")\n",
    "            break"
   ]
  },
  {
   "attachments": {},
   "cell_type": "markdown",
   "metadata": {},
   "source": [
    "## Recheck statistics"
   ]
  },
  {
   "cell_type": "code",
   "execution_count": 47,
   "metadata": {},
   "outputs": [
    {
     "name": "stdout",
     "output_type": "stream",
     "text": [
      "fetal_head:\n"
     ]
    },
    {
     "name": "stderr",
     "output_type": "stream",
     "text": [
      "  train: 100%|██████████| 350/350 [00:02<00:00, 168.18it/s]\n"
     ]
    },
    {
     "name": "stdout",
     "output_type": "stream",
     "text": [
      "    mask:    350 (100.0%)\n",
      "    no mask: 0 (0.0%)\n"
     ]
    },
    {
     "name": "stderr",
     "output_type": "stream",
     "text": [
      "  val: 100%|██████████| 74/74 [00:00<00:00, 168.33it/s]\n"
     ]
    },
    {
     "name": "stdout",
     "output_type": "stream",
     "text": [
      "    mask:    74 (100.0%)\n",
      "    no mask: 0 (0.0%)\n"
     ]
    },
    {
     "name": "stderr",
     "output_type": "stream",
     "text": [
      "  test: 100%|██████████| 76/76 [00:00<00:00, 165.88it/s]\n"
     ]
    },
    {
     "name": "stdout",
     "output_type": "stream",
     "text": [
      "    mask:    76 (100.0%)\n",
      "    no mask: 0 (0.0%)\n",
      "\n",
      "breast_cancer:\n"
     ]
    },
    {
     "name": "stderr",
     "output_type": "stream",
     "text": [
      "  train: 100%|██████████| 259/259 [00:01<00:00, 151.71it/s]\n"
     ]
    },
    {
     "name": "stdout",
     "output_type": "stream",
     "text": [
      "    mask:    259 (100.0%)\n",
      "    no mask: 0 (0.0%)\n"
     ]
    },
    {
     "name": "stderr",
     "output_type": "stream",
     "text": [
      "  val: 100%|██████████| 55/55 [00:00<00:00, 155.94it/s]\n"
     ]
    },
    {
     "name": "stdout",
     "output_type": "stream",
     "text": [
      "    mask:    55 (100.0%)\n",
      "    no mask: 0 (0.0%)\n"
     ]
    },
    {
     "name": "stderr",
     "output_type": "stream",
     "text": [
      "  test: 100%|██████████| 56/56 [00:00<00:00, 156.06it/s]\n"
     ]
    },
    {
     "name": "stdout",
     "output_type": "stream",
     "text": [
      "    mask:    56 (100.0%)\n",
      "    no mask: 0 (0.0%)\n",
      "\n",
      "mouse_embryo:\n"
     ]
    },
    {
     "name": "stderr",
     "output_type": "stream",
     "text": [
      "  train: 100%|██████████| 14416/14416 [03:18<00:00, 72.50it/s]\n"
     ]
    },
    {
     "name": "stdout",
     "output_type": "stream",
     "text": [
      "    no masks:       0 (0.0%)\n",
      "    only body mask: 7213 (50.03%)\n",
      "    only bv mask:   0 (0.0%)\n",
      "    both masks:     7203 (49.97%)\n"
     ]
    },
    {
     "name": "stderr",
     "output_type": "stream",
     "text": [
      "  val: 100%|██████████| 3774/3774 [00:50<00:00, 75.20it/s]\n"
     ]
    },
    {
     "name": "stdout",
     "output_type": "stream",
     "text": [
      "    no masks:       0 (0.0%)\n",
      "    only body mask: 2105 (55.78%)\n",
      "    only bv mask:   0 (0.0%)\n",
      "    both masks:     1669 (44.22%)\n"
     ]
    },
    {
     "name": "stderr",
     "output_type": "stream",
     "text": [
      "  test: 100%|██████████| 4564/4564 [01:12<00:00, 63.21it/s]\n"
     ]
    },
    {
     "name": "stdout",
     "output_type": "stream",
     "text": [
      "    no masks:       0 (0.0%)\n",
      "    only body mask: 2835 (62.12%)\n",
      "    only bv mask:   0 (0.0%)\n",
      "    both masks:     1729 (37.88%)\n",
      "\n",
      "covid:\n"
     ]
    },
    {
     "name": "stderr",
     "output_type": "stream",
     "text": [
      "  train: 100%|██████████| 3122/3122 [00:37<00:00, 82.22it/s]\n"
     ]
    },
    {
     "name": "stdout",
     "output_type": "stream",
     "text": [
      "    mask:    1580 (50.61%)\n",
      "    no mask: 1542 (49.39%)\n"
     ]
    },
    {
     "name": "stderr",
     "output_type": "stream",
     "text": [
      "  val: 100%|██████████| 138/138 [00:02<00:00, 68.98it/s]\n"
     ]
    },
    {
     "name": "stdout",
     "output_type": "stream",
     "text": [
      "    mask:    69 (50.0%)\n",
      "    no mask: 69 (50.0%)\n"
     ]
    },
    {
     "name": "stderr",
     "output_type": "stream",
     "text": [
      "  test: 100%|██████████| 130/130 [00:01<00:00, 65.39it/s]\n"
     ]
    },
    {
     "name": "stdout",
     "output_type": "stream",
     "text": [
      "    mask:    65 (50.0%)\n",
      "    no mask: 65 (50.0%)\n",
      "\n",
      "pancreas:\n"
     ]
    },
    {
     "name": "stderr",
     "output_type": "stream",
     "text": [
      "  train: 100%|██████████| 9214/9214 [01:19<00:00, 115.82it/s]\n"
     ]
    },
    {
     "name": "stdout",
     "output_type": "stream",
     "text": [
      "    mask:    4607 (50.0%)\n",
      "    no mask: 4607 (50.0%)\n"
     ]
    },
    {
     "name": "stderr",
     "output_type": "stream",
     "text": [
      "  val: 100%|██████████| 1978/1978 [00:14<00:00, 133.47it/s]\n"
     ]
    },
    {
     "name": "stdout",
     "output_type": "stream",
     "text": [
      "    mask:    989 (50.0%)\n",
      "    no mask: 989 (50.0%)\n"
     ]
    },
    {
     "name": "stderr",
     "output_type": "stream",
     "text": [
      "  test: 100%|██████████| 2218/2218 [00:16<00:00, 132.58it/s]\n"
     ]
    },
    {
     "name": "stdout",
     "output_type": "stream",
     "text": [
      "    mask:    1109 (50.0%)\n",
      "    no mask: 1109 (50.0%)\n",
      "\n",
      "brain_tumor:\n"
     ]
    },
    {
     "name": "stderr",
     "output_type": "stream",
     "text": [
      "  train: 100%|██████████| 2072/2072 [00:17<00:00, 116.22it/s]\n"
     ]
    },
    {
     "name": "stdout",
     "output_type": "stream",
     "text": [
      "    mask:    1036 (50.0%)\n",
      "    no mask: 1036 (50.0%)\n"
     ]
    },
    {
     "name": "stderr",
     "output_type": "stream",
     "text": [
      "  val: 100%|██████████| 318/318 [00:02<00:00, 106.32it/s]\n"
     ]
    },
    {
     "name": "stdout",
     "output_type": "stream",
     "text": [
      "    mask:    159 (50.0%)\n",
      "    no mask: 159 (50.0%)\n"
     ]
    },
    {
     "name": "stderr",
     "output_type": "stream",
     "text": [
      "  test: 100%|██████████| 356/356 [00:03<00:00, 101.07it/s]\n"
     ]
    },
    {
     "name": "stdout",
     "output_type": "stream",
     "text": [
      "    mask:    178 (50.0%)\n",
      "    no mask: 178 (50.0%)\n",
      "\n",
      "prostate:\n"
     ]
    },
    {
     "name": "stderr",
     "output_type": "stream",
     "text": [
      "  train: 100%|██████████| 2687/2687 [00:29<00:00, 91.69it/s] \n"
     ]
    },
    {
     "name": "stdout",
     "output_type": "stream",
     "text": [
      "    mask:    1317 (49.01%)\n",
      "    no mask: 1370 (50.99%)\n"
     ]
    },
    {
     "name": "stderr",
     "output_type": "stream",
     "text": [
      "  val: 100%|██████████| 585/585 [00:07<00:00, 76.97it/s]\n"
     ]
    },
    {
     "name": "stdout",
     "output_type": "stream",
     "text": [
      "    mask:    271 (46.32%)\n",
      "    no mask: 314 (53.68%)\n"
     ]
    },
    {
     "name": "stderr",
     "output_type": "stream",
     "text": [
      "  test: 100%|██████████| 615/615 [00:08<00:00, 76.23it/s]"
     ]
    },
    {
     "name": "stdout",
     "output_type": "stream",
     "text": [
      "    mask:    279 (45.37%)\n",
      "    no mask: 336 (54.63%)\n",
      "\n"
     ]
    },
    {
     "name": "stderr",
     "output_type": "stream",
     "text": [
      "\n"
     ]
    }
   ],
   "source": [
    "for dataset_name in ALL_DATASETS.keys():\n",
    "    n_labels = ALL_DATASETS[dataset_name][\"n_labels\"]\n",
    "    labels = ALL_DATASETS[dataset_name][\"labels\"]\n",
    "\n",
    "    print(f\"{dataset_name}:\")\n",
    "    for subset in [\"train\", \"val\", \"test\"]:\n",
    "        if n_labels == 1:\n",
    "            total, mask, no_mask = get_dataset_stats(dataset_name, subset, labels, n_labels)\n",
    "            print(f\"    mask:    {mask} ({round(mask / float(total) * 100, 2)}%)\")\n",
    "            print(f\"    no mask: {no_mask} ({round(no_mask / float(total) * 100, 2)}%)\")\n",
    "        elif n_labels == 2:\n",
    "            total, only_mask1, only_mask2, both_masks, no_masks = get_dataset_stats(dataset_name, subset, labels, n_labels)\n",
    "            print(f\"    no masks:       {no_masks} ({round(no_masks / float(total) * 100, 2)}%)\")\n",
    "            print(f\"    only {labels[0]} mask: {only_mask1} ({round(only_mask1 / float(total) * 100, 2)}%)\")\n",
    "            print(f\"    only {labels[1]} mask:   {only_mask2} ({round(only_mask2 / float(total) * 100, 2)}%)\")\n",
    "            print(f\"    both masks:     {both_masks} ({round(both_masks / float(total) * 100, 2)}%)\")\n",
    "        else:\n",
    "            raise ValueError(\"Currently only supports 1 or 2 labels\")\n",
    "    print(\"\")\n",
    "    \n",
    "\n",
    "\n"
   ]
  }
 ],
 "metadata": {
  "kernelspec": {
   "display_name": "thesis",
   "language": "python",
   "name": "python3"
  },
  "language_info": {
   "codemirror_mode": {
    "name": "ipython",
    "version": 3
   },
   "file_extension": ".py",
   "mimetype": "text/x-python",
   "name": "python",
   "nbconvert_exporter": "python",
   "pygments_lexer": "ipython3",
   "version": "3.10.10"
  },
  "orig_nbformat": 4
 },
 "nbformat": 4,
 "nbformat_minor": 2
}
