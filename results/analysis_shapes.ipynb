{
 "cells": [
  {
   "cell_type": "code",
   "execution_count": 1,
   "metadata": {},
   "outputs": [],
   "source": [
    "import pandas as pd\n",
    "from matplotlib import pyplot as plt\n",
    "import matplotlib\n",
    "\n",
    "matplotlib.use(\"pgf\")\n",
    "matplotlib.rcParams.update({\n",
    "    \"pgf.texsystem\": \"pdflatex\",\n",
    "    'font.family': 'serif',\n",
    "    'text.usetex': True,\n",
    "    'pgf.rcfonts': False,\n",
    "})"
   ]
  },
  {
   "cell_type": "code",
   "execution_count": 2,
   "metadata": {},
   "outputs": [],
   "source": [
    "datasets = {\n",
    "    \"shapes_a\": {\n",
    "        \"name\": \"A (=1.0)\",\n",
    "        \"path\": \"shapes/shapes_a.csv\",\n",
    "    },\n",
    "    \"shapes_a_large\": {\n",
    "        \"name\": \"A large\",\n",
    "        \"path\": \"shapes/shapes_a_large.csv\",\n",
    "    },\n",
    "    \"shapes_a_contour\": {\n",
    "        \"name\": \"A contour\",\n",
    "        \"path\": \"shapes/shapes_a_contour.csv\",\n",
    "    },\n",
    "    \"shapes_a_large_contour\": {\n",
    "        \"name\": \"A large contour\",\n",
    "        \"path\": \"shapes/shapes_a_large_contour.csv\",\n",
    "    },\n",
    "    \"shapes_b\": {\n",
    "        \"name\": \"B\",\n",
    "        \"path\": \"shapes/shapes_b.csv\",\n",
    "    },\n",
    "    \"shapes_b_large\": {\n",
    "        \"name\": \"B large\",\n",
    "        \"path\": \"shapes/shapes_b_large.csv\",\n",
    "    },\n",
    "    \"shapes_b_contour\": {\n",
    "        \"name\": \"B contour\",\n",
    "        \"path\": \"shapes/shapes_b_contour.csv\",\n",
    "    },\n",
    "    \"shapes_b_large_contour\": {\n",
    "        \"name\": \"B large contour\",\n",
    "        \"path\": \"shapes/shapes_b_large_contour.csv\",\n",
    "    },\n",
    "}\n",
    "\n",
    "A_datasets = {dataset: datasets[dataset] for dataset in datasets.keys() if datasets[dataset][\"name\"].startswith(\"A\")}\n",
    "B_datasets = {dataset: datasets[dataset] for dataset in datasets.keys() if datasets[dataset][\"name\"].startswith(\"B\")}"
   ]
  },
  {
   "cell_type": "code",
   "execution_count": 3,
   "metadata": {},
   "outputs": [
    {
     "name": "stderr",
     "output_type": "stream",
     "text": [
      "/tmp/ipykernel_530/3356735700.py:44: UserWarning: Matplotlib is currently using pgf, which is a non-GUI backend, so cannot show the figure.\n",
      "  plt.show()\n"
     ]
    }
   ],
   "source": [
    "fig, axs = plt.subplots(1, 2, figsize=(5, 3))\n",
    "\n",
    "plt.subplot(1, 2, 1)\n",
    "\n",
    "for dataset in A_datasets.keys():\n",
    "    name = datasets[dataset][\"name\"]\n",
    "    path = datasets[dataset][\"path\"]\n",
    "    \n",
    "    df = pd.read_csv(path, delimiter=\"\\t\").T.reset_index()\n",
    "    df = df.rename(columns=df.iloc[0]).drop(df.index[0])\n",
    "    df[\"trf_size\"] = df[\"trf_size\"].astype(int)\n",
    "    plt.plot(df[\"trf_size\"], df[\"dice_score\"], label=name)\n",
    "    \n",
    "# plt.plot(df_mean[\"trf_size\"], df_mean[\"dice_score\"], label=\"Mean\", color=\"black\", linestyle=\"solid\")\n",
    "plt.ylim(0.65, 1.01)\n",
    "plt.xlim(0, 576)\n",
    "plt.xticks([0, 576])\n",
    "plt.xlabel(\"TRF Size\")\n",
    "plt.ylabel(\"Dice Score\")\n",
    "plt.title(\"(a) Shapes type A\")\n",
    "plt.legend()\n",
    "\n",
    "plt.subplot(1, 2, 2)\n",
    "\n",
    "for dataset in B_datasets.keys():\n",
    "    name = datasets[dataset][\"name\"]\n",
    "    path = datasets[dataset][\"path\"]\n",
    "    \n",
    "    df = pd.read_csv(path, delimiter=\"\\t\").T.reset_index()\n",
    "    df = df.rename(columns=df.iloc[0]).drop(df.index[0])\n",
    "    df[\"trf_size\"] = df[\"trf_size\"].astype(int)\n",
    "    plt.plot(df[\"trf_size\"], df[\"dice_score\"], label=name)\n",
    "    \n",
    "# plt.plot(df_mean[\"trf_size\"], df_mean[\"dice_score\"], label=\"Mean\", color=\"black\", linestyle=\"solid\")\n",
    "plt.ylim(0.65, 1.01)\n",
    "plt.xlim(0, 576)\n",
    "plt.xticks([0, 576])\n",
    "plt.xlabel(\"TRF Size\")\n",
    "# plt.ylabel(\"Dice Score\")\n",
    "plt.yticks([])\n",
    "plt.title(\"(b) Shapes type B\")\n",
    "plt.legend()\n",
    "plt.tight_layout()\n",
    "plt.show()\n",
    "plt.savefig(\"analysis-shapes.pgf\")"
   ]
  }
 ],
 "metadata": {
  "kernelspec": {
   "display_name": "thesis",
   "language": "python",
   "name": "python3"
  },
  "language_info": {
   "codemirror_mode": {
    "name": "ipython",
    "version": 3
   },
   "file_extension": ".py",
   "mimetype": "text/x-python",
   "name": "python",
   "nbconvert_exporter": "python",
   "pygments_lexer": "ipython3",
   "version": "3.10.10"
  },
  "orig_nbformat": 4
 },
 "nbformat": 4,
 "nbformat_minor": 2
}
