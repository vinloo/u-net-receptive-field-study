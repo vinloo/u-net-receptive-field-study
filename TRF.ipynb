{
 "cells": [
  {
   "cell_type": "code",
   "execution_count": 1,
   "metadata": {},
   "outputs": [],
   "source": [
    "from unet import UNet\n",
    "from utils.config import load_config\n",
    "import torch\n",
    "\n",
    "device = torch.device(\"cuda\" if torch.cuda.is_available() else \"cpu\")"
   ]
  },
  {
   "cell_type": "code",
   "execution_count": 2,
   "metadata": {},
   "outputs": [],
   "source": [
    "config = load_config('default')\n",
    "model = UNet(config).to(device)"
   ]
  },
  {
   "cell_type": "code",
   "execution_count": 3,
   "metadata": {},
   "outputs": [
    {
     "name": "stdout",
     "output_type": "stream",
     "text": [
      "------------------------------------------------------------------------------\n",
      "layer  type                 map size       start       jump        TRF    skip\n",
      "==============================================================================\n",
      "    0  input layer        [576, 576]         0.5        1.0        1.0        \n",
      "\n",
      "EncoderBlock\n",
      "    1  Conv2d             [576, 576]         0.5        1.0        3.0        \n",
      "    2  BatchNorm2d        [576, 576]         0.5        1.0        3.0        \n",
      "    3  ReLU               [576, 576]         0.5        1.0        3.0        \n",
      "    4  Conv2d             [576, 576]         0.5        1.0        5.0        \n",
      "    5  BatchNorm2d        [576, 576]         0.5        1.0        5.0        \n",
      "    6  ReLU               [576, 576]         0.5        1.0        5.0        \n",
      "    7  MaxPool2d          [288, 288]         1.0        2.0        6.0   1 OUT\n",
      "\n",
      "EncoderBlock\n",
      "    8  Conv2d             [288, 288]         1.0        2.0       10.0        \n",
      "    9  BatchNorm2d        [288, 288]         1.0        2.0       10.0        \n",
      "   10  ReLU               [288, 288]         1.0        2.0       10.0        \n",
      "   11  Conv2d             [288, 288]         1.0        2.0       14.0        \n",
      "   12  BatchNorm2d        [288, 288]         1.0        2.0       14.0        \n",
      "   13  ReLU               [288, 288]         1.0        2.0       14.0        \n",
      "   14  MaxPool2d          [144, 144]         2.0        4.0       16.0   2 OUT\n",
      "\n",
      "EncoderBlock\n",
      "   15  Conv2d             [144, 144]         2.0        4.0       24.0        \n",
      "   16  BatchNorm2d        [144, 144]         2.0        4.0       24.0        \n",
      "   17  ReLU               [144, 144]         2.0        4.0       24.0        \n",
      "   18  Conv2d             [144, 144]         2.0        4.0       32.0        \n",
      "   19  BatchNorm2d        [144, 144]         2.0        4.0       32.0        \n",
      "   20  ReLU               [144, 144]         2.0        4.0       32.0        \n",
      "   21  MaxPool2d            [72, 72]         4.0        8.0       36.0   3 OUT\n",
      "\n",
      "EncoderBlock\n",
      "   22  Conv2d               [72, 72]         4.0        8.0       52.0        \n",
      "   23  BatchNorm2d          [72, 72]         4.0        8.0       52.0        \n",
      "   24  ReLU                 [72, 72]         4.0        8.0       52.0        \n",
      "   25  Conv2d               [72, 72]         4.0        8.0       68.0        \n",
      "   26  BatchNorm2d          [72, 72]         4.0        8.0       68.0        \n",
      "   27  ReLU                 [72, 72]         4.0        8.0       68.0        \n",
      "   28  MaxPool2d            [36, 36]         8.0       16.0       76.0   4 OUT\n",
      "\n",
      "BottleNeck\n",
      "   29  Conv2d               [36, 36]         8.0       16.0      108.0        \n",
      "   30  BatchNorm2d          [36, 36]         8.0       16.0      108.0        \n",
      "   31  ReLU                 [36, 36]         8.0       16.0      108.0        \n",
      "   32  Conv2d               [36, 36]         8.0       16.0      140.0        \n",
      "   33  BatchNorm2d          [36, 36]         8.0       16.0      140.0        \n",
      "   34  ReLU                 [36, 36]         8.0       16.0      140.0        \n",
      "\n",
      "DecoderBlock\n",
      "   35  ConvTranspose2d      [72, 72]           0          0          0    4 IN\n",
      "   36  Conv2d               [72, 72]           0          0          0        \n",
      "   37  BatchNorm2d          [72, 72]           0          0          0        \n",
      "   38  ReLU                 [72, 72]           0          0          0        \n",
      "   39  Conv2d               [72, 72]           0          0          0        \n",
      "   40  BatchNorm2d          [72, 72]           0          0          0        \n",
      "   41  ReLU                 [72, 72]           0          0          0        \n",
      "\n",
      "DecoderBlock\n",
      "   42  ConvTranspose2d    [144, 144]           0          0          0    3 IN\n",
      "   43  Conv2d             [144, 144]           0          0          0        \n",
      "   44  BatchNorm2d        [144, 144]           0          0          0        \n",
      "   45  ReLU               [144, 144]           0          0          0        \n",
      "   46  Conv2d             [144, 144]           0          0          0        \n",
      "   47  BatchNorm2d        [144, 144]           0          0          0        \n",
      "   48  ReLU               [144, 144]           0          0          0        \n",
      "\n",
      "DecoderBlock\n",
      "   49  ConvTranspose2d    [288, 288]           0          0          0    2 IN\n",
      "   50  Conv2d             [288, 288]           0          0          0        \n",
      "   51  BatchNorm2d        [288, 288]           0          0          0        \n",
      "   52  ReLU               [288, 288]           0          0          0        \n",
      "   53  Conv2d             [288, 288]           0          0          0        \n",
      "   54  BatchNorm2d        [288, 288]           0          0          0        \n",
      "   55  ReLU               [288, 288]           0          0          0        \n",
      "\n",
      "DecoderBlock\n",
      "   56  ConvTranspose2d    [576, 576]           0          0          0    1 IN\n",
      "   57  Conv2d             [576, 576]           0          0          0        \n",
      "   58  BatchNorm2d        [576, 576]           0          0          0        \n",
      "   59  ReLU               [576, 576]           0          0          0        \n",
      "   60  Conv2d             [576, 576]           0          0          0        \n",
      "   61  BatchNorm2d        [576, 576]           0          0          0        \n",
      "   62  ReLU               [576, 576]           0          0          0        \n",
      "   63  Conv2d             [576, 576]           0          0          0        \n",
      "==============================================================================\n"
     ]
    }
   ],
   "source": [
    "from theoretical_receptive_field import compute_trf\n",
    "rf = compute_trf(model, input_size=(1, 576, 576))\n"
   ]
  },
  {
   "cell_type": "code",
   "execution_count": 4,
   "metadata": {},
   "outputs": [
    {
     "name": "stdout",
     "output_type": "stream",
     "text": [
      "Receptive field size for layer 1, pixel_position (12, 12),  is \n",
      " [(11.0, 14.0), (11.0, 14.0)]\n"
     ]
    }
   ],
   "source": [
    "from theoretical_receptive_field import get_pixel_trf\n",
    "rfu = get_pixel_trf(rf, layer=1, pixel_position=(12, 12))"
   ]
  }
 ],
 "metadata": {
  "kernelspec": {
   "display_name": "thesis",
   "language": "python",
   "name": "python3"
  },
  "language_info": {
   "codemirror_mode": {
    "name": "ipython",
    "version": 3
   },
   "file_extension": ".py",
   "mimetype": "text/x-python",
   "name": "python",
   "nbconvert_exporter": "python",
   "pygments_lexer": "ipython3",
   "version": "3.10.10"
  },
  "orig_nbformat": 4
 },
 "nbformat": 4,
 "nbformat_minor": 2
}
